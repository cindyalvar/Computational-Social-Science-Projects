{
 "cells": [
  {
   "cell_type": "code",
   "execution_count": null,
   "metadata": {},
   "outputs": [],
   "source": [
    "## Question 9: Large Language Model and Text Generation"
   ]
  },
  {
   "cell_type": "code",
   "execution_count": 1,
   "metadata": {},
   "outputs": [
    {
     "name": "stderr",
     "output_type": "stream",
     "text": [
      "All PyTorch model weights were used when initializing TFGPT2LMHeadModel.\n",
      "\n",
      "All the weights of TFGPT2LMHeadModel were initialized from the PyTorch model.\n",
      "If your task is similar to the task the model of the checkpoint was trained on, you can already use TFGPT2LMHeadModel for predictions without further training.\n",
      "Device set to use 0\n"
     ]
    }
   ],
   "source": [
    "from transformers import pipeline, set_seed\n",
    "# Here, 'text-generation' tells the pipeline to create a text generation model, and model='gpt2'\n",
    "# specifies that you want to use the GPT-2 model for this task.\n",
    "generator = pipeline('text-generation', model='gpt2')"
   ]
  },
  {
   "cell_type": "code",
   "execution_count": 2,
   "metadata": {},
   "outputs": [
    {
     "name": "stderr",
     "output_type": "stream",
     "text": [
      "Truncation was not explicitly activated but `max_length` is provided a specific value, please use `truncation=True` to explicitly truncate examples to max length. Defaulting to 'longest_first' truncation strategy. If you encode pairs of sequences (GLUE-style) with the tokenizer you can select this strategy more precisely by providing a specific strategy to `truncation`.\n"
     ]
    },
    {
     "name": "stdout",
     "output_type": "stream",
     "text": [
      "This project applied natural language processing techniques that are able to use data sources to identify specific events in context using data points that are similar. These are related to the problem of visualization of individual events.\n",
      "\n",
      "The approach focuses on a series of data\n",
      "----\n",
      "This project applied natural language processing techniques to language processing problems, using a type system: the system was designed for problem solving. By incorporating the semantic context of the problem in a semantic analysis step, each step has the benefit of allowing learners to define features\n",
      "----\n",
      "This project applied natural language processing techniques to language development. Using a small but powerful set of R packages such as rspec and xrspec, the library was able to integrate R-style language concepts for a fully developed and scalable API.\n",
      "\n",
      "\n",
      "----\n",
      "This project applied natural language processing techniques to language and perception and learning the inner workings of the brain. We've implemented new and interesting approaches for understanding how neural networks process knowledge in one-process software, and in several other ways. Our results suggest that\n",
      "----\n",
      "This project applied natural language processing techniques to the natural language model in order to get a better understanding of our social behaviors and the underlying neural mechanisms.\n",
      "\n",
      "In this paper we present an approach to learning these social behaviors. We demonstrate that our learning of\n",
      "----\n"
     ]
    }
   ],
   "source": [
    "set_seed(100)\n",
    "input_text = \"This project applied natural language processing techniques\"\n",
    "# specifying the maximum length of the output, and the number of different sequences you want\n",
    "output = generator(input_text, max_length=50, num_return_sequences=5)\n",
    "for result in output:\n",
    "    print(result['generated_text'])\n",
    "    print(\"----\")"
   ]
  }
 ],
 "metadata": {
  "kernelspec": {
   "display_name": "Python 3 (ipykernel)",
   "language": "python",
   "name": "python3"
  },
  "language_info": {
   "codemirror_mode": {
    "name": "ipython",
    "version": 3
   },
   "file_extension": ".py",
   "mimetype": "text/x-python",
   "name": "python",
   "nbconvert_exporter": "python",
   "pygments_lexer": "ipython3",
   "version": "3.12.7"
  }
 },
 "nbformat": 4,
 "nbformat_minor": 4
}
